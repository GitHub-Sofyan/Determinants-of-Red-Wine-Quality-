{
 "cells": [
  {
   "cell_type": "markdown",
   "metadata": {},
   "source": [
    "# Exploratory Data Analysis on the Factors of Red Wine Quality\n",
    "By Sofyan Sahrom"
   ]
  },
  {
   "cell_type": "markdown",
   "metadata": {},
   "source": [
    "Research Question: Which chemical properties influence the quality of red wines?\n",
    "\n",
    "Background:\n",
    "Wine quality is graded by experts on a scale of 0 (very bad) to 10 (very excellent). To help understand what are the factors that determine the wine quality, the physicochemical properties of the  wine was investigated. This is a qualititave measurement. \n",
    "\n",
    "By examining the physicochemical properties of wines of different grades, it might be possible to investigate whether there are factors or variables that can help determine the quality of red wine. This can help to quantify some of the grading process of the what is eitherwise a very qualitative measurement. This information in turn can be used in the future to help create a preliminary grading of wine quality or something smiliar. \n",
    "\n",
    "Therefore the quality of wine will be the dependent variable while the physicochemical properties of the wine will be the independent variables or factors. \n"
   ]
  },
  {
   "cell_type": "code",
   "execution_count": 13,
   "metadata": {},
   "outputs": [],
   "source": [
    "# Stage 1a - Preparation of Battlefield - Loading of all relevant dependancies and libaries\n",
    "library(\"ggplot2\")\n",
    "library(\"dplyr\")\n",
    "library(\"e1071\")  \n",
    "# library(\"gridExtra\")\n",
    "# library(Simpsons)\n",
    "# library(GGally)\n",
    "# library(memisc)\n",
    "# library(pander)\n",
    "# library(corrplot)"
   ]
  },
  {
   "cell_type": "code",
   "execution_count": 14,
   "metadata": {},
   "outputs": [
    {
     "data": {
      "text/html": [
       "<table>\n",
       "<thead><tr><th scope=col>X</th><th scope=col>fixed.acidity</th><th scope=col>volatile.acidity</th><th scope=col>citric.acid</th><th scope=col>residual.sugar</th><th scope=col>chlorides</th><th scope=col>free.sulfur.dioxide</th><th scope=col>total.sulfur.dioxide</th><th scope=col>density</th><th scope=col>pH</th><th scope=col>sulphates</th><th scope=col>alcohol</th><th scope=col>quality</th></tr></thead>\n",
       "<tbody>\n",
       "\t<tr><td>1     </td><td> 7.4  </td><td>0.70  </td><td>0.00  </td><td>1.9   </td><td>0.076 </td><td>11    </td><td>34    </td><td>0.9978</td><td>3.51  </td><td>0.56  </td><td>9.4   </td><td>5     </td></tr>\n",
       "\t<tr><td>2     </td><td> 7.8  </td><td>0.88  </td><td>0.00  </td><td>2.6   </td><td>0.098 </td><td>25    </td><td>67    </td><td>0.9968</td><td>3.20  </td><td>0.68  </td><td>9.8   </td><td>5     </td></tr>\n",
       "\t<tr><td>3     </td><td> 7.8  </td><td>0.76  </td><td>0.04  </td><td>2.3   </td><td>0.092 </td><td>15    </td><td>54    </td><td>0.9970</td><td>3.26  </td><td>0.65  </td><td>9.8   </td><td>5     </td></tr>\n",
       "\t<tr><td>4     </td><td>11.2  </td><td>0.28  </td><td>0.56  </td><td>1.9   </td><td>0.075 </td><td>17    </td><td>60    </td><td>0.9980</td><td>3.16  </td><td>0.58  </td><td>9.8   </td><td>6     </td></tr>\n",
       "\t<tr><td>5     </td><td> 7.4  </td><td>0.70  </td><td>0.00  </td><td>1.9   </td><td>0.076 </td><td>11    </td><td>34    </td><td>0.9978</td><td>3.51  </td><td>0.56  </td><td>9.4   </td><td>5     </td></tr>\n",
       "\t<tr><td>6     </td><td> 7.4  </td><td>0.66  </td><td>0.00  </td><td>1.8   </td><td>0.075 </td><td>13    </td><td>40    </td><td>0.9978</td><td>3.51  </td><td>0.56  </td><td>9.4   </td><td>5     </td></tr>\n",
       "</tbody>\n",
       "</table>\n"
      ],
      "text/latex": [
       "\\begin{tabular}{r|lllllllllllll}\n",
       " X & fixed.acidity & volatile.acidity & citric.acid & residual.sugar & chlorides & free.sulfur.dioxide & total.sulfur.dioxide & density & pH & sulphates & alcohol & quality\\\\\n",
       "\\hline\n",
       "\t 1      &  7.4   & 0.70   & 0.00   & 1.9    & 0.076  & 11     & 34     & 0.9978 & 3.51   & 0.56   & 9.4    & 5     \\\\\n",
       "\t 2      &  7.8   & 0.88   & 0.00   & 2.6    & 0.098  & 25     & 67     & 0.9968 & 3.20   & 0.68   & 9.8    & 5     \\\\\n",
       "\t 3      &  7.8   & 0.76   & 0.04   & 2.3    & 0.092  & 15     & 54     & 0.9970 & 3.26   & 0.65   & 9.8    & 5     \\\\\n",
       "\t 4      & 11.2   & 0.28   & 0.56   & 1.9    & 0.075  & 17     & 60     & 0.9980 & 3.16   & 0.58   & 9.8    & 6     \\\\\n",
       "\t 5      &  7.4   & 0.70   & 0.00   & 1.9    & 0.076  & 11     & 34     & 0.9978 & 3.51   & 0.56   & 9.4    & 5     \\\\\n",
       "\t 6      &  7.4   & 0.66   & 0.00   & 1.8    & 0.075  & 13     & 40     & 0.9978 & 3.51   & 0.56   & 9.4    & 5     \\\\\n",
       "\\end{tabular}\n"
      ],
      "text/markdown": [
       "\n",
       "X | fixed.acidity | volatile.acidity | citric.acid | residual.sugar | chlorides | free.sulfur.dioxide | total.sulfur.dioxide | density | pH | sulphates | alcohol | quality | \n",
       "|---|---|---|---|---|---|\n",
       "| 1      |  7.4   | 0.70   | 0.00   | 1.9    | 0.076  | 11     | 34     | 0.9978 | 3.51   | 0.56   | 9.4    | 5      | \n",
       "| 2      |  7.8   | 0.88   | 0.00   | 2.6    | 0.098  | 25     | 67     | 0.9968 | 3.20   | 0.68   | 9.8    | 5      | \n",
       "| 3      |  7.8   | 0.76   | 0.04   | 2.3    | 0.092  | 15     | 54     | 0.9970 | 3.26   | 0.65   | 9.8    | 5      | \n",
       "| 4      | 11.2   | 0.28   | 0.56   | 1.9    | 0.075  | 17     | 60     | 0.9980 | 3.16   | 0.58   | 9.8    | 6      | \n",
       "| 5      |  7.4   | 0.70   | 0.00   | 1.9    | 0.076  | 11     | 34     | 0.9978 | 3.51   | 0.56   | 9.4    | 5      | \n",
       "| 6      |  7.4   | 0.66   | 0.00   | 1.8    | 0.075  | 13     | 40     | 0.9978 | 3.51   | 0.56   | 9.4    | 5      | \n",
       "\n",
       "\n"
      ],
      "text/plain": [
       "  X fixed.acidity volatile.acidity citric.acid residual.sugar chlorides\n",
       "1 1  7.4          0.70             0.00        1.9            0.076    \n",
       "2 2  7.8          0.88             0.00        2.6            0.098    \n",
       "3 3  7.8          0.76             0.04        2.3            0.092    \n",
       "4 4 11.2          0.28             0.56        1.9            0.075    \n",
       "5 5  7.4          0.70             0.00        1.9            0.076    \n",
       "6 6  7.4          0.66             0.00        1.8            0.075    \n",
       "  free.sulfur.dioxide total.sulfur.dioxide density pH   sulphates alcohol\n",
       "1 11                  34                   0.9978  3.51 0.56      9.4    \n",
       "2 25                  67                   0.9968  3.20 0.68      9.8    \n",
       "3 15                  54                   0.9970  3.26 0.65      9.8    \n",
       "4 17                  60                   0.9980  3.16 0.58      9.8    \n",
       "5 11                  34                   0.9978  3.51 0.56      9.4    \n",
       "6 13                  40                   0.9978  3.51 0.56      9.4    \n",
       "  quality\n",
       "1 5      \n",
       "2 5      \n",
       "3 5      \n",
       "4 6      \n",
       "5 5      \n",
       "6 5      "
      ]
     },
     "metadata": {},
     "output_type": "display_data"
    },
    {
     "name": "stdout",
     "output_type": "stream",
     "text": [
      "'data.frame':\t1599 obs. of  13 variables:\n",
      " $ X                   : int  1 2 3 4 5 6 7 8 9 10 ...\n",
      " $ fixed.acidity       : num  7.4 7.8 7.8 11.2 7.4 7.4 7.9 7.3 7.8 7.5 ...\n",
      " $ volatile.acidity    : num  0.7 0.88 0.76 0.28 0.7 0.66 0.6 0.65 0.58 0.5 ...\n",
      " $ citric.acid         : num  0 0 0.04 0.56 0 0 0.06 0 0.02 0.36 ...\n",
      " $ residual.sugar      : num  1.9 2.6 2.3 1.9 1.9 1.8 1.6 1.2 2 6.1 ...\n",
      " $ chlorides           : num  0.076 0.098 0.092 0.075 0.076 0.075 0.069 0.065 0.073 0.071 ...\n",
      " $ free.sulfur.dioxide : num  11 25 15 17 11 13 15 15 9 17 ...\n",
      " $ total.sulfur.dioxide: num  34 67 54 60 34 40 59 21 18 102 ...\n",
      " $ density             : num  0.998 0.997 0.997 0.998 0.998 ...\n",
      " $ pH                  : num  3.51 3.2 3.26 3.16 3.51 3.51 3.3 3.39 3.36 3.35 ...\n",
      " $ sulphates           : num  0.56 0.68 0.65 0.58 0.56 0.56 0.46 0.47 0.57 0.8 ...\n",
      " $ alcohol             : num  9.4 9.8 9.8 9.8 9.4 9.4 9.4 10 9.5 10.5 ...\n",
      " $ quality             : int  5 5 5 6 5 5 5 7 7 5 ...\n"
     ]
    },
    {
     "data": {
      "text/plain": [
       "       X          fixed.acidity   volatile.acidity  citric.acid   \n",
       " Min.   :   1.0   Min.   : 4.60   Min.   :0.1200   Min.   :0.000  \n",
       " 1st Qu.: 400.5   1st Qu.: 7.10   1st Qu.:0.3900   1st Qu.:0.090  \n",
       " Median : 800.0   Median : 7.90   Median :0.5200   Median :0.260  \n",
       " Mean   : 800.0   Mean   : 8.32   Mean   :0.5278   Mean   :0.271  \n",
       " 3rd Qu.:1199.5   3rd Qu.: 9.20   3rd Qu.:0.6400   3rd Qu.:0.420  \n",
       " Max.   :1599.0   Max.   :15.90   Max.   :1.5800   Max.   :1.000  \n",
       " residual.sugar     chlorides       free.sulfur.dioxide total.sulfur.dioxide\n",
       " Min.   : 0.900   Min.   :0.01200   Min.   : 1.00       Min.   :  6.00      \n",
       " 1st Qu.: 1.900   1st Qu.:0.07000   1st Qu.: 7.00       1st Qu.: 22.00      \n",
       " Median : 2.200   Median :0.07900   Median :14.00       Median : 38.00      \n",
       " Mean   : 2.539   Mean   :0.08747   Mean   :15.87       Mean   : 46.47      \n",
       " 3rd Qu.: 2.600   3rd Qu.:0.09000   3rd Qu.:21.00       3rd Qu.: 62.00      \n",
       " Max.   :15.500   Max.   :0.61100   Max.   :72.00       Max.   :289.00      \n",
       "    density             pH          sulphates         alcohol     \n",
       " Min.   :0.9901   Min.   :2.740   Min.   :0.3300   Min.   : 8.40  \n",
       " 1st Qu.:0.9956   1st Qu.:3.210   1st Qu.:0.5500   1st Qu.: 9.50  \n",
       " Median :0.9968   Median :3.310   Median :0.6200   Median :10.20  \n",
       " Mean   :0.9967   Mean   :3.311   Mean   :0.6581   Mean   :10.42  \n",
       " 3rd Qu.:0.9978   3rd Qu.:3.400   3rd Qu.:0.7300   3rd Qu.:11.10  \n",
       " Max.   :1.0037   Max.   :4.010   Max.   :2.0000   Max.   :14.90  \n",
       "    quality     \n",
       " Min.   :3.000  \n",
       " 1st Qu.:5.000  \n",
       " Median :6.000  \n",
       " Mean   :5.636  \n",
       " 3rd Qu.:6.000  \n",
       " Max.   :8.000  "
      ]
     },
     "metadata": {},
     "output_type": "display_data"
    }
   ],
   "source": [
    "# Stage 1b - Loading and Reconnaisance of Data\n",
    "wine <- read.csv('wineQualityReds.csv') # Loading the csv file\n",
    "head(wine) # Reconnaisance of Data - Preview of dataframe\n",
    "str(wine) # Struture and Details of the Data\n",
    "summary(wine) # General Descriptive Statistics of the Data"
   ]
  },
  {
   "cell_type": "markdown",
   "metadata": {},
   "source": [
    "Understanding the Data:\n",
    "\n",
    "Reconnaisannce of the DataFrame revealed that 11 physicochemical properties were recorded. This will be the independent variables of interest or factors that may have an effect on the quality of wine.  "
   ]
  },
  {
   "cell_type": "code",
   "execution_count": 19,
   "metadata": {},
   "outputs": [
    {
     "data": {},
     "metadata": {},
     "output_type": "display_data"
    },
    {
     "data": {
      "text/html": [
       "0.287914814100104"
      ],
      "text/latex": [
       "0.287914814100104"
      ],
      "text/markdown": [
       "0.287914814100104"
      ],
      "text/plain": [
       "[1] 0.2879148"
      ]
     },
     "metadata": {},
     "output_type": "display_data"
    },
    {
     "data": {
      "text/html": [
       "0.217393112494184"
      ],
      "text/latex": [
       "0.217393112494184"
      ],
      "text/markdown": [
       "0.217393112494184"
      ],
      "text/plain": [
       "[1] 0.2173931"
      ]
     },
     "metadata": {},
     "output_type": "display_data"
    },
    {
     "data": {
      "image/png": "[encoded data removed]",
      "text/plain": [
       "plot without title"
      ]
     },
     "metadata": {},
     "output_type": "display_data"
    }
   ],
   "source": [
    "# Stage 2 - Plotting the Layout of Battlefield (Distribution)\n",
    "ggplot(data = wine, aes(x = quality)) +\n",
    "  geom_bar(width = 1, color = 'black',fill = I('red'))\n",
    "\n",
    "# Checking for Skewnesss and Kurtosis\n",
    "quality = wine$quality\n",
    "kurtosis(quality) \n",
    "skewness(quality) "
   ]
  },
  {
   "cell_type": "markdown",
   "metadata": {},
   "source": [
    "Surveying the Battlefield:\n",
    "Based on the distribution of the wine quality, it seems"
   ]
  },
  {
   "cell_type": "code",
   "execution_count": 18,
   "metadata": {},
   "outputs": [
    {
     "ename": "ERROR",
     "evalue": "Error in grid.arrange(ggplot(wine, aes(x = 1, y = fixed.acidity)) + geom_jitter(alpha = 0.1) + : could not find function \"grid.arrange\"\n",
     "output_type": "error",
     "traceback": [
      "Error in grid.arrange(ggplot(wine, aes(x = 1, y = fixed.acidity)) + geom_jitter(alpha = 0.1) + : could not find function \"grid.arrange\"\nTraceback:\n"
     ]
    }
   ],
   "source": [
    "grid.arrange(ggplot(wine, aes( x = 1, y = fixed.acidity ) ) + \n",
    "               geom_jitter(alpha = 0.1 ) +\n",
    "               geom_boxplot(alpha = 0.2, color = 'red' ) +\n",
    "               scale_y_continuous(lim = c(4,14)),\n",
    "ggplot(data = wine, aes(x = fixed.acidity)) +\n",
    "  geom_histogram(binwidth = 1, color = 'black',fill = I('orange')) + \n",
    "  scale_x_continuous(lim = c(4,14)),ncol = 2)"
   ]
  },
  {
   "cell_type": "code",
   "execution_count": null,
   "metadata": {
    "collapsed": true
   },
   "outputs": [],
   "source": []
  }
 ],
 "metadata": {
  "kernelspec": {
   "display_name": "R",
   "language": "R",
   "name": "ir"
  },
  "language_info": {
   "codemirror_mode": "r",
   "file_extension": ".r",
   "mimetype": "text/x-r-source",
   "name": "R",
   "pygments_lexer": "r",
   "version": "3.4.2"
  }
 },
 "nbformat": 4,
 "nbformat_minor": 2
}
